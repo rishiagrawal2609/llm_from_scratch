{
 "cells": [
  {
   "cell_type": "code",
   "execution_count": 5,
   "id": "f6143cdd",
   "metadata": {},
   "outputs": [
    {
     "name": "stdout",
     "output_type": "stream",
     "text": [
      "230464\n",
      "Dorothy and the Wizard in Oz\n",
      "\n",
      "\n",
      "  A Faithful Record of Their Amazing Adventures\n",
      "    in an Underground World; and How with the\n",
      "     Aid of Their Friends Zeb Hugson, Eureka\n",
      "       the Kitten, and Jim the\n"
     ]
    }
   ],
   "source": [
    "with open (\"wizard_of_oz.txt\",\"r\",encoding=\"utf-8\") as f:\n",
    "    text = f.read()\n",
    "print(len(text))\n",
    "print(text[:200])"
   ]
  },
  {
   "cell_type": "code",
   "execution_count": 10,
   "id": "0e1ef182",
   "metadata": {},
   "outputs": [
    {
     "name": "stdout",
     "output_type": "stream",
     "text": [
      "['\\n', ' ', '!', '\"', '&', \"'\", '(', ')', ',', '-', '.', '0', '1', '2', '3', '4', '5', '6', '7', '8', '9', ':', ';', '?', 'A', 'B', 'C', 'D', 'E', 'F', 'G', 'H', 'I', 'J', 'K', 'L', 'M', 'N', 'O', 'P', 'Q', 'R', 'S', 'T', 'U', 'V', 'W', 'Y', 'Z', 'a', 'b', 'c', 'd', 'e', 'f', 'g', 'h', 'i', 'j', 'k', 'l', 'm', 'n', 'o', 'p', 'q', 'r', 's', 't', 'u', 'v', 'w', 'x', 'y', 'z']\n",
      "75\n"
     ]
    }
   ],
   "source": [
    "chars = sorted(set(text))\n",
    "print(chars)\n",
    "print(len(chars))"
   ]
  },
  {
   "cell_type": "code",
   "execution_count": 13,
   "id": "815b9f02",
   "metadata": {},
   "outputs": [
    {
     "name": "stdout",
     "output_type": "stream",
     "text": [
      "[56, 53, 60, 60, 63]\n",
      "hello\n"
     ]
    }
   ],
   "source": [
    "#Char level encoder - decoder (tokenizer-Char level)\n",
    "\n",
    "string_to_int  = {ch:i for i,ch in enumerate(chars)}\n",
    "int_to_string = {i:ch for i,ch in enumerate(chars)}\n",
    "\n",
    "encoder = lambda s: [string_to_int[c] for c in s]\n",
    "decoder = lambda l: \"\".join([int_to_string[i] for i in l])\n",
    "\n",
    "\n",
    "#test drivers\n",
    "hello_encode = encoder(\"hello\")\n",
    "print(hello_encode)\n",
    "decode_hello = decoder(hello_encode)\n",
    "print(decode_hello)"
   ]
  },
  {
   "cell_type": "code",
   "execution_count": 15,
   "id": "3d0c657a",
   "metadata": {},
   "outputs": [],
   "source": [
    "# Using pytorch\n",
    "\n",
    "import torch"
   ]
  },
  {
   "cell_type": "code",
   "execution_count": 16,
   "id": "9f8fd691",
   "metadata": {},
   "outputs": [
    {
     "data": {
      "text/plain": [
       "tensor([27, 63, 66, 63, 68, 56, 73,  1, 49, 62, 52,  1, 68, 56, 53,  1, 46, 57,\n",
       "        74, 49, 66, 52,  1, 57, 62,  1, 38, 74,  0,  0,  0,  1,  1, 24,  1, 29,\n",
       "        49, 57, 68, 56, 54, 69, 60,  1, 41, 53, 51, 63, 66, 52,  1, 63, 54,  1,\n",
       "        43, 56, 53, 57, 66,  1, 24, 61, 49, 74, 57, 62, 55,  1, 24, 52, 70, 53,\n",
       "        62, 68, 69, 66, 53, 67,  0,  1,  1,  1,  1, 57, 62,  1, 49, 62,  1, 44,\n",
       "        62, 52, 53, 66, 55, 66, 63, 69, 62, 52])"
      ]
     },
     "execution_count": 16,
     "metadata": {},
     "output_type": "execute_result"
    }
   ],
   "source": [
    "data = torch.tensor(encoder(text),dtype=torch.long)\n",
    "\n",
    "data[:100]"
   ]
  },
  {
   "cell_type": "code",
   "execution_count": 17,
   "id": "c68b131c",
   "metadata": {},
   "outputs": [],
   "source": [
    "n = int(0.8*len(data))\n",
    "train_data = data[:n]\n",
    "val_data = data[n:]\n"
   ]
  },
  {
   "cell_type": "markdown",
   "id": "4696c223",
   "metadata": {},
   "source": [
    "# How this model is gonna work:\n",
    "\n",
    "start -> h <br>\n",
    "h -> e <br>\n",
    "e -> l <br>\n",
    "l -> l <br>\n",
    "l -> o <br>\n",
    "\n",
    "For now it will just predict the next char.\n",
    "\n",
    "<br>\n",
    "\n",
    "here we will make the dataset by block size. if I consider block size = 5 and offset = 1 then the fist col will be : <br>\n",
    "n = 0 to n = 4 --> Feature var (X) <br>\n",
    "n = 5 --> target var (y)<br>\n",
    "next one will be<br>\n",
    "n = 1 to n = 5 --> Feature var (X)<br>\n",
    "n = 6 --> target var <br>\n",
    "and so onn...<br>\n",
    "\n",
    "i = 0;<br>\n",
    "X = data[i:block_size+i], y = data[i+block_size+1] where i> 0;<br>\n",
    "i+=1<br>"
   ]
  },
  {
   "cell_type": "code",
   "execution_count": 19,
   "id": "f9dd387b",
   "metadata": {},
   "outputs": [
    {
     "name": "stdout",
     "output_type": "stream",
     "text": [
      "When Input is tensor([27]) target is tensor(63)\n",
      "When Input is tensor([27, 63]) target is tensor(66)\n",
      "When Input is tensor([27, 63, 66]) target is tensor(63)\n",
      "When Input is tensor([27, 63, 66, 63]) target is tensor(68)\n",
      "When Input is tensor([27, 63, 66, 63, 68]) target is tensor(56)\n",
      "When Input is tensor([27, 63, 66, 63, 68, 56]) target is tensor(73)\n",
      "When Input is tensor([27, 63, 66, 63, 68, 56, 73]) target is tensor(1)\n",
      "When Input is tensor([27, 63, 66, 63, 68, 56, 73,  1]) target is tensor(49)\n"
     ]
    }
   ],
   "source": [
    "#creating the dataset with above principles:\n",
    "\n",
    "block_size = 8\n",
    "\n",
    "x = train_data[:block_size]\n",
    "y = train_data[1:block_size+1]\n",
    "\n",
    "for t in range(block_size):\n",
    "    context = x[:t+1]\n",
    "    target = y[t]\n",
    "    print(\"When Input is\",context,\"target is\",target)"
   ]
  },
  {
   "cell_type": "code",
   "execution_count": 20,
   "id": "0ed17436",
   "metadata": {},
   "outputs": [
    {
     "name": "stdout",
     "output_type": "stream",
     "text": [
      "mps\n"
     ]
    }
   ],
   "source": [
    "# Inroducing GPU accleration\n",
    "\n",
    "device = 'mps' if torch.backends.mps.is_available() else 'cpu'\n",
    "print(device)"
   ]
  },
  {
   "cell_type": "code",
   "execution_count": null,
   "id": "54ca908c",
   "metadata": {},
   "outputs": [],
   "source": [
    "block_size = 8\n",
    "batch_size = 4"
   ]
  }
 ],
 "metadata": {
  "kernelspec": {
   "display_name": "Python 3 (ipykernel)",
   "language": "python",
   "name": "python3"
  },
  "language_info": {
   "codemirror_mode": {
    "name": "ipython",
    "version": 3
   },
   "file_extension": ".py",
   "mimetype": "text/x-python",
   "name": "python",
   "nbconvert_exporter": "python",
   "pygments_lexer": "ipython3",
   "version": "3.11.5"
  }
 },
 "nbformat": 4,
 "nbformat_minor": 5
}
